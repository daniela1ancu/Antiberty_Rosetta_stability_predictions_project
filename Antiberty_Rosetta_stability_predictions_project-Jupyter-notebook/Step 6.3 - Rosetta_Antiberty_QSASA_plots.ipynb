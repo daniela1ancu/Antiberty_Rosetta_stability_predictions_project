{
 "cells": [
  {
   "cell_type": "code",
   "execution_count": 1,
   "id": "ee26898a-ecc6-4b63-9899-72f3aeccea77",
   "metadata": {},
   "outputs": [],
   "source": [
    "import os\n",
    "import pandas as pd\n",
    "import seaborn as sns\n",
    "import matplotlib\n",
    "import matplotlib.pyplot as plt"
   ]
  },
  {
   "cell_type": "markdown",
   "id": "9a004908-9f58-4d8a-9fb5-0b70fdcf8d23",
   "metadata": {},
   "source": [
    "## Read files which are either core or surface"
   ]
  },
  {
   "cell_type": "code",
   "execution_count": 2,
   "id": "506c1564-554d-4396-9df3-a0fbdb7d23fd",
   "metadata": {},
   "outputs": [],
   "source": [
    "core_input_folder = \"Surface information/core_residues_dataframes\"\n",
    "surface_input_folder = \"Surface information/surface_residues_dataframes\"\n",
    "core_dataframes = {}\n",
    "surface_dataframes = {}\n",
    "\n",
    "def read_files(input_folder, dataframes):\n",
    "    for file in os.listdir(input_folder):\n",
    "        file_path = os.path.join(input_folder, file)\n",
    "        # print(f\"{file_path}\")\n",
    "        \n",
    "        if file.endswith(\".csv\"):\n",
    "            custom_name = file[:7]\n",
    "            \n",
    "            with open(file_path, \"r\") as f:\n",
    "                df = pd.read_csv(f)\n",
    "                dataframes[custom_name] = df\n",
    "\n",
    "\n",
    "read_files(core_input_folder, core_dataframes)\n",
    "read_files(surface_input_folder, surface_dataframes)"
   ]
  },
  {
   "cell_type": "code",
   "execution_count": 3,
   "id": "712fdcff-0247-41a8-9654-13e108806ea7",
   "metadata": {},
   "outputs": [],
   "source": [
    "base_folder = \"Final work/Validation against clinically approved drugs\"\n",
    "targets = {\n",
    "    \"3eoa\": \"3eoa_BA.csv\",\n",
    "    \"1bey\": \"1bey_HL.csv\",\n",
    "    \"1ce1\": \"1ce1_HL.csv\",\n",
    "    \"1n8z\": \"1n8z_BA.csv\",\n",
    "    \"7mn8\": \"7mn8_DC.csv\",\n",
    "    \"1l7i\": \"1l7i_HL.csv\",\n",
    "    \n",
    "    # mutant variants\n",
    "    \"2fjg\": \"2fjg_BA.csv\", \n",
    "    \"5jw3_HL\": \"5jw3_HL.csv\",\n",
    "    \"5jw4_MN\": \"5jw4_MN.csv\",\n",
    "    \"5jw4_QR\": \"5jw4_QR.csv\",\n",
    "    \"5jw4_ST\": \"5jw4_ST.csv\",\n",
    "    \"5jw5_AB\": \"5jw5_AB.csv\",\n",
    "    \"5jw5_HL\": \"5jw5_HL.csv\",\n",
    "    \"5fha_HL\": \"5fha_HL.csv\",\n",
    "    \"5fhc_HL\": \"5fhc_HL.csv\",\n",
    "    \"6ws6_AB\": \"6ws6_AB.csv\",\n",
    "    \"6ws6_CD\": \"6ws6_CD.csv\",\n",
    "    \"6ws6_EF\": \"6ws6_EF.csv\",\n",
    "    \"6xdg_CA\": \"6xdg_CA.csv\",\n",
    "    \"6xdg_BD\": \"6xdg_BD.csv\",\n",
    "}\n",
    "\n",
    "for target in targets:\n",
    "    os.makedirs(f\"{base_folder}/{target}/{target}_pictures_and_pdb_files\", exist_ok =True)"
   ]
  },
  {
   "cell_type": "markdown",
   "id": "cada04e4-dea3-4746-bfe5-85dd13cc8b26",
   "metadata": {},
   "source": [
    "## Create the plots showing the QSASA scores across the AntiBERTy and Rosetta scores\n"
   ]
  },
  {
   "cell_type": "code",
   "execution_count": 6,
   "id": "882e94dc-ef86-495c-a11e-4c58a7428899",
   "metadata": {},
   "outputs": [
    {
     "data": {
      "text/plain": [
       "<Figure size 640x480 with 0 Axes>"
      ]
     },
     "metadata": {},
     "output_type": "display_data"
    }
   ],
   "source": [
    "base_folder = \"Final work/Validation against clinically approved drugs\"\n",
    "targets = {\n",
    "    \"3eoa\": \"3eoa_BA\",\n",
    "    \"1bey\": \"1bey_HL\",\n",
    "    \"1ce1\": \"1ce1_HL\",\n",
    "    \"1n8z\": \"1n8z_BA\",\n",
    "    \"7mn8\": \"7mn8_DC\",\n",
    "    \"1l7i\": \"1l7i_HL\",\n",
    "    \n",
    "    # mutant variants\n",
    "    \"2fjg\": \"2fjg_BA\", \n",
    "    \"5jw3_HL\": \"5jw3_HL\",\n",
    "    \"5jw4_MN\": \"5jw4_MN\",\n",
    "    \"5jw4_QR\": \"5jw4_QR\",\n",
    "    \"5jw4_ST\": \"5jw4_ST\",\n",
    "    \"5jw5_AB\": \"5jw5_AB\",\n",
    "    \"5jw5_HL\": \"5jw5_HL\",\n",
    "    \"5fha_HL\": \"5fha_HL\",\n",
    "    \"5fhc_HL\": \"5fhc_HL\",\n",
    "    \"6ws6_AB\": \"6ws6_AB\",\n",
    "    \"6ws6_CD\": \"6ws6_CD\",\n",
    "    \"6ws6_EF\": \"6ws6_EF\",\n",
    "    \"6xdg_CA\": \"6xdg_CA\",\n",
    "    \"6xdg_BD\": \"6xdg_BD\",\n",
    "}\n",
    "\n",
    "\n",
    "def QSASA_regression_plots(df, target, solvent_access):\n",
    "    \"\"\"\n",
    "    Plot Antiberty and Rosetta scores against QSASA for core or surface residues.\n",
    "\n",
    "    Parameters:\n",
    "    - df: DataFrame containing the data.\n",
    "    - target: Target PDB identifier.\n",
    "    - solvent_access: String indicating whether the residues are core or surface.\n",
    "\n",
    "    The plot will calculate the means for Antiberty, Rosetta, and QSASA for each position in the variable region.\n",
    "    \"\"\"\n",
    "    # df[\"IMGT numbering\"] = df[\"IMGT numbering\"].astype(int)\n",
    "    # calculate the means for the scores (Antiberty, rosetta and QSASA) after grouping them by the wild-type amino acid, position and chain\n",
    "    position_means = df.groupby([\"WT_AA\", \"IMGT numbering\", \"chain\"])[[\"AntiBERTy normalised\", \"Rosetta normalised\", \"Q(SASA)\"]].mean()\n",
    "    mean_dataframes = pd.DataFrame(position_means)\n",
    "    mean_filtered = mean_dataframes[mean_dataframes.index.get_level_values(\"WT_AA\") != \"C\"]  # Remove C values since these are always 0 (in Rosetta)\n",
    "\n",
    "    plt.clf()\n",
    "    fig, axes = plt.subplots(nrows=1, ncols=2, figsize=(15, 5))\n",
    "    sns.set_theme()\n",
    "\n",
    "    title = \"Core\" if solvent_access == \"core\" else \"Surface\"\n",
    "    plt.suptitle(f\"{title} Residues: Antiberty and Rosetta Scores vs. QSASA\\n\"\n",
    "                 f\"(PDB: {target})\")\n",
    "\n",
    "    # Plot for AntiBERTy scores\n",
    "    sns.scatterplot(data=mean_filtered, x=\"Q(SASA)\", y=\"AntiBERTy normalised\", hue=\"chain\", ax=axes[0])\n",
    "    for point, row in mean_filtered.iterrows():\n",
    "        # for each row in the dataframe it combines the amino acid type (row.name[0]) and position (row.name[1]) - these will be the labels\n",
    "        # (row[\"Q(SASA)\"], row[\"AntiBERTy normalised\"]) access the values for the columns (so they can match the points to the labels)\n",
    "        axes[0].annotate(f\"{row.name[0]} {row.name[1]}\", (row[\"Q(SASA)\"], row[\"AntiBERTy normalised\"]), textcoords=\"offset points\", fontsize=7, xytext=(0,7), ha='center')\n",
    "    sns.regplot(data=mean_filtered, x=\"Q(SASA)\", y=\"AntiBERTy normalised\", scatter=False, color='red', line_kws={'label':\"Correlation line\"}, ax=axes[0])\n",
    "\n",
    "    axes[0].set_xlabel(\"Q(SASA)\")\n",
    "    axes[0].set_ylabel(\"AntiBERTy scores\")\n",
    "    \n",
    "    # Plot for Rosetta scores\n",
    "    sns.scatterplot(data=mean_filtered, x=\"Q(SASA)\", y=\"Rosetta normalised\", hue=\"chain\", ax=axes[1])\n",
    "    for point, row in mean_filtered.iterrows():\n",
    "        axes[1].annotate(f\"{row.name[0]} {row.name[1]}\", (row[\"Q(SASA)\"], row[\"Rosetta normalised\"]), textcoords=\"offset points\", fontsize=7, xytext=(0,7), ha='center')\n",
    "    sns.regplot(data=mean_filtered, x=\"Q(SASA)\", y=\"Rosetta normalised\", scatter=False, color='red', line_kws={'label':\"Correlation line\"}, ax=axes[1])\n",
    "\n",
    "    axes[1].set_xlabel(\"Q(SASA)\")\n",
    "    axes[1].set_ylabel(\"Rosetta scores\")\n",
    "\n",
    "    # Define the output folder and file path for saving the plot\n",
    "    output_folder = f\"{target}/{target}_pictures_and_pdb_files\"\n",
    "    file_path = os.path.join(base_folder, output_folder, f\"{solvent_access}_position_scores_over_QSASA.png\")\n",
    "\n",
    "    plt.savefig(file_path, bbox_inches = \"tight\")\n",
    "    plt.close()\n",
    "\n",
    "def process_targets(targets, solvent_access):\n",
    "    for target, file_name in targets.items():\n",
    "        df = eval(f\"{solvent_access}_dataframes[file_name]\")  # eval - strings the variables together (so they can be accessed easier)\n",
    "        QSASA_regression_plots(df, target, solvent_access)\n",
    "\n",
    "process_targets(targets, \"core\")\n",
    "process_targets(targets, \"surface\")"
   ]
  }
 ],
 "metadata": {
  "kernelspec": {
   "display_name": "Python 3 (ipykernel)",
   "language": "python",
   "name": "python3"
  },
  "language_info": {
   "codemirror_mode": {
    "name": "ipython",
    "version": 3
   },
   "file_extension": ".py",
   "mimetype": "text/x-python",
   "name": "python",
   "nbconvert_exporter": "python",
   "pygments_lexer": "ipython3",
   "version": "3.10.13"
  }
 },
 "nbformat": 4,
 "nbformat_minor": 5
}
