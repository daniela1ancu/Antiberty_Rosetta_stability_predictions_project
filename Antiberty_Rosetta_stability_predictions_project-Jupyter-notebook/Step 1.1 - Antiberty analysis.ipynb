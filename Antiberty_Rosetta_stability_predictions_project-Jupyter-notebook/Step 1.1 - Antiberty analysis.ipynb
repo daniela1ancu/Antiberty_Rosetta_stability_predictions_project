{
 "cells": [
  {
   "cell_type": "code",
   "execution_count": null,
   "id": "2e92310e-9da4-4e73-968e-c7fa290a0a1d",
   "metadata": {},
   "outputs": [],
   "source": [
    "import os\n",
    "import pandas as pd\n",
    "import numpy as np\n",
    "import ast\n",
    "import re\n",
    "import csv"
   ]
  },
  {
   "cell_type": "markdown",
   "id": "d8a825f9-3148-4ed1-8c46-26e3758fd144",
   "metadata": {},
   "source": [
    "## Load antiberty files, filter them"
   ]
  },
  {
   "cell_type": "code",
   "execution_count": null,
   "id": "467a24b8-b2f8-4c06-ba10-728302a00b6d",
   "metadata": {
    "scrolled": true
   },
   "outputs": [],
   "source": [
    "# Define the directory containing your pickle files\n",
    "directory_h = \"Antiberty-h\"\n",
    "\n",
    "# List all files in the directory\n",
    "files = os.listdir(directory_h)\n",
    "\n",
    "def read_files_return_dataframes(files):\n",
    "    antiberty_h_dataframes = {}\n",
    "    \n",
    "    \"\"\"\n",
    "    take the files from the directory and first read and extract their custom names\n",
    "    then we drop the first 5 rows since they are useless \n",
    "    we reset the index (we need this later when merging with the MUT_AA dataframe\n",
    "    \"\"\"\n",
    "    \n",
    "    for file in files:\n",
    "        file_path = os.path.join(directory_h, file)  # adds files to the directory wanted\n",
    "        \n",
    "        if os.path.isfile(file_path):\n",
    "            custom_name = file[0:7]  # extracts the custom name e.g.7n4l_HL\n",
    "            with open(file_path, 'r') as file:\n",
    "                loaded_data = pd.read_csv(file_path)\n",
    "\n",
    "            loaded_data = loaded_data.rename(columns = {\"wt_aa\": \"WT_AA\", \"scaled_pseudolog_likelihood\": \"Scaled Antiberty Score\", \"mut_aa\": \"MUT_AA\", \"PDB_numbering\": \"position\"})\n",
    "            antiberty_h_dataframes[custom_name] = loaded_data\n",
    "\n",
    "    return antiberty_h_dataframes\n",
    "\n",
    "antiberty_h_dataframes = read_files_return_dataframes(files)"
   ]
  },
  {
   "cell_type": "code",
   "execution_count": null,
   "id": "a3c02ef8-3b53-40e9-8669-ec31df1bedc8",
   "metadata": {},
   "outputs": [],
   "source": [
    "# Define the directory containing your pickle files\n",
    "directory_l = \"Antiberty-l\"\n",
    "\n",
    "# List all files in the directory\n",
    "files = os.listdir(directory_l)\n",
    "\n",
    "def read_files_return_dataframes(files):\n",
    "    antiberty_l_dataframes = {}\n",
    "\n",
    "    for file in files:\n",
    "        file_path = os.path.join(directory_l, file)\n",
    "        if os.path.isfile(file_path):\n",
    "            custom_name = file[0:7]\n",
    "            with open(file_path, 'rb') as f:\n",
    "                loaded_data = pd.read_csv(f)\n",
    "                \n",
    "            loaded_data = loaded_data.rename(columns = {\"wt_aa\": \"WT_AA\", \"scaled_pseudolog_likelihood\": \"Scaled Antiberty Score\", \"mut_aa\": \"MUT_AA\", \"PDB_numbering\": \"position\"})\n",
    "            antiberty_l_dataframes[custom_name] = loaded_data\n",
    "\n",
    "    return antiberty_l_dataframes\n",
    "\n",
    "antiberty_l_dataframes = read_files_return_dataframes(files)"
   ]
  },
  {
   "cell_type": "markdown",
   "id": "52597dd8-207e-4862-b514-1eacaeaf7275",
   "metadata": {},
   "source": [
    "## Save the antiberty files"
   ]
  },
  {
   "cell_type": "code",
   "execution_count": null,
   "id": "0f222b26-b077-4fb8-be54-21b6b21d5bdd",
   "metadata": {},
   "outputs": [],
   "source": [
    "output_folder_H = \"AntiBERTy filtered files/H-AntiBERTy\"\n",
    "output_folder_L = \"AntiBERTy filtered files/L-AntiBERTy\"\n",
    "\n",
    "def antiberty_to_csv(dictionary, output_folder):\n",
    "    for custom_name, df in dictionary.items():\n",
    "        file_path = os.path.join(output_folder, f\"{custom_name}.csv\")\n",
    "        df.to_csv(file_path, index = False)\n",
    "\n",
    "antiberty_to_csv(antiberty_h_dataframes, output_folder_H)\n",
    "antiberty_to_csv(antiberty_l_dataframes, output_folder_L)"
   ]
  }
 ],
 "metadata": {
  "kernelspec": {
   "display_name": "Python 3 (ipykernel)",
   "language": "python",
   "name": "python3"
  },
  "language_info": {
   "codemirror_mode": {
    "name": "ipython",
    "version": 3
   },
   "file_extension": ".py",
   "mimetype": "text/x-python",
   "name": "python",
   "nbconvert_exporter": "python",
   "pygments_lexer": "ipython3",
   "version": "3.10.13"
  }
 },
 "nbformat": 4,
 "nbformat_minor": 5
}
