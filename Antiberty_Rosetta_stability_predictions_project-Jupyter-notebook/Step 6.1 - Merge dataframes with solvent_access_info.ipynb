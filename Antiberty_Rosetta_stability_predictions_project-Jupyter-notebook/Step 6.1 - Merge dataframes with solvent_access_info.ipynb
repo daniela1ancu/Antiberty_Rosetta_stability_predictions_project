{
 "cells": [
  {
   "cell_type": "code",
   "execution_count": 1,
   "id": "4d848978-cbe4-4834-96e7-d59bd082e437",
   "metadata": {},
   "outputs": [],
   "source": [
    "import os\n",
    "import pandas as pd\n",
    "import numpy as np\n",
    "import math"
   ]
  },
  {
   "cell_type": "markdown",
   "id": "597b6906-0110-4194-af90-b6455979420d",
   "metadata": {},
   "source": [
    "## Merge dataframes\n",
    "\n",
    "Read the files which contain the solvent accessible information and then also the files which contain the Rosetta and AntiBERTy scores."
   ]
  },
  {
   "cell_type": "code",
   "execution_count": 12,
   "id": "143d2f2a-0918-4910-ab5c-20faa864b02b",
   "metadata": {},
   "outputs": [],
   "source": [
    "solvent_access_folder = \"Surface information/surface_access_clean_files\"\n",
    "dataframe_folder = \"Clean files\"\n",
    "\n",
    "solvent_access_info = {}\n",
    "dataframes = {}\n",
    "\n",
    "def read_files(input_folder, output_dictionary):\n",
    "    for file in os.listdir(input_folder):\n",
    "        file_path = os.path.join(input_folder, file)\n",
    "        \n",
    "        if file.endswith(\".csv\"):\n",
    "            custom_name = file[:7]\n",
    "            with open(file_path, \"r\") as f:\n",
    "                df = pd.read_csv(f)\n",
    "                output_dictionary[custom_name] = df\n",
    "\n",
    "read_files(solvent_access_folder, solvent_access_info)\n",
    "read_files(dataframe_folder, dataframes)"
   ]
  },
  {
   "cell_type": "markdown",
   "id": "72fee41c-0ab2-459d-a4e8-36fa0ab2cb8e",
   "metadata": {},
   "source": [
    "## Create a column named PDB_num which contains the necessary info for merging"
   ]
  },
  {
   "cell_type": "code",
   "execution_count": 13,
   "id": "36deecd5-936b-49d8-b36f-978ca4b0437c",
   "metadata": {},
   "outputs": [],
   "source": [
    "\"\"\"\n",
    "for the solvent accessible information the icode contains a dash line \"-\" which would need to be replaced to an empty space, \n",
    "since the \"clean files\" contain \"NaN\" (empty) values.\n",
    "then we create a column named PDB_num which would contain the PDB numbering and if applicable, add the insertion code (e.g. 108A or 108B)\n",
    "\"\"\"\n",
    "for custom_name, df in solvent_access_info.items():\n",
    "    df = df.copy()\n",
    "    df[\"iCode\"] = df[\"iCode\"].replace({\"-\": \"\"})\n",
    "    df[\"PDB_num\"] = df[\"ResidNr\"].astype(str) + df[\"iCode\"]\n",
    "    df[\"PDB_num\"] = df[\"PDB_num\"].str.strip()\n",
    "    solvent_access_info[custom_name] = df"
   ]
  },
  {
   "cell_type": "code",
   "execution_count": 14,
   "id": "87b3dd09-22d1-457f-8e4d-79d03a932e66",
   "metadata": {},
   "outputs": [],
   "source": [
    "\"\"\"\n",
    "for this I just conver the position to a string (since now it is an int)\n",
    "\"\"\"\n",
    "\n",
    "for custom_name, df in dataframes.items():\n",
    "    df = df.copy()\n",
    "    # df[\"insertion_code\"] = df[\"insertion_code\"].fillna(\"-\")\n",
    "    df[\"position\"] = df[\"position\"].astype(str)\n",
    "    dataframes[custom_name] = df"
   ]
  },
  {
   "cell_type": "markdown",
   "id": "97556ba8-7a66-43d3-91a5-2a8a9379dc48",
   "metadata": {},
   "source": [
    "## Merge and save the files "
   ]
  },
  {
   "cell_type": "code",
   "execution_count": 65,
   "id": "73540a1a-e4d4-4301-9dc5-8a30b2068cd2",
   "metadata": {},
   "outputs": [],
   "source": [
    "\"\"\"\n",
    "lastly combine the two dataframes. The PDB_num and position would correcly match the two dataframes based on the amino acid type,\n",
    "the position and the chain type.\n",
    "We sort them (so they are alphabetically ordered) and then save the files in the desired folder.\n",
    "\"\"\"\n",
    "\n",
    "output_folder = \"Surface information\"\n",
    "os.makedirs(output_folder, exist_ok=True)\n",
    "\n",
    "merged_dataframes = {}\n",
    "\n",
    "for file_name, df in dataframes.items():\n",
    "    if file_name in solvent_access_info:\n",
    "        custom_name = file_name[:7]\n",
    "        solvent_access_df = solvent_access_info[custom_name]\n",
    "        merged_dataframe = df.merge(solvent_access_df, \n",
    "                                        left_on=[\"WT_AA\", \"position\", \"chain\"], \n",
    "                                        right_on=[\"WT_AA\", \"PDB_num\", \"Chain\"], \n",
    "                                        how=\"left\")\n",
    "        merged_dataframe.sort_values(by=\"IMGT numbering\", ascending=True)\n",
    "\n",
    "        file_path = f\"{output_folder}/clean_files_solvent_access_info/{custom_name}.csv\"\n",
    "        merged_dataframe.to_csv(file_path, index=False)\n",
    "        \n",
    "        merged_dataframes[custom_name] = merged_dataframe\n",
    "        "
   ]
  },
  {
   "cell_type": "markdown",
   "id": "cfa5e02a-f7d6-4413-bae1-65265075cb35",
   "metadata": {},
   "source": [
    "## Split rows into dataframes - core and surface (one example)\n",
    "\n",
    "take one dataframe (Trastuzumab) and split the dataframes into core and surface rows, depending on their QSASA score.\n",
    "\n",
    "> <0.15 - they are considered core\n",
    "\n",
    "> larger 0.15 - considered surface"
   ]
  },
  {
   "cell_type": "code",
   "execution_count": 71,
   "id": "431ee364-e2b5-46bd-b675-5fb56b607951",
   "metadata": {},
   "outputs": [],
   "source": [
    "dataframe = merged_dataframes[\"7mn8_DC\"].copy()\n",
    "\n",
    "core_residues = []\n",
    "surface_residues = []\n",
    "custom_name = \"7mn8_DC\"\n",
    "dataframe[\"Q(SASA)\"] = dataframe[\"Q(SASA)\"].astype(float)\n",
    "\n",
    "for index, row in dataframe.iterrows():\n",
    "    if not math.isnan(row[\"Q(SASA)\"]):\n",
    "        if row[\"Q(SASA)\"] < 0.15:\n",
    "            core_residues.append({\n",
    "                \"chain\": row[\"chain\"], \n",
    "                \"position\": row[\"position\"],\n",
    "                \"IMGT numbering\": row[\"IMGT numbering\"],\n",
    "                \"WT_AA\": row[\"WT_AA\"],\n",
    "                \"MUT_AA\": row[\"MUT_AA\"],\n",
    "                \"region\": row[\"region\"],\n",
    "                \"Rosetta score\": row[\"Rosetta normalised\"],\n",
    "                \"AntiBERTy scores\": row[\"AntiBERTy normalised\"],  \n",
    "                \"QSASA\": row[\"Q(SASA)\"]\n",
    "            })\n",
    "        elif row[\"Q(SASA)\"] >= 0.15:\n",
    "            surface_residues.append({\n",
    "                \"chain\": row[\"chain\"], \n",
    "                \"position\": row[\"position\"],\n",
    "                \"IMGT numbering\": row[\"IMGT numbering\"],\n",
    "                \"WT_AA\": row[\"WT_AA\"],\n",
    "                \"MUT_AA\": row[\"MUT_AA\"],\n",
    "                \"region\": row[\"region\"],\n",
    "                \"Rosetta score\": row[\"Rosetta normalised\"],\n",
    "                \"AntiBERTy scores\": row[\"AntiBERTy normalised\"],  \n",
    "                \"QSASA\": row[\"Q(SASA)\"]\n",
    "            })\n",
    "        else:\n",
    "            print(f\"{row} has no QSASA\")\n",
    "                \n",
    "    dataframe_core = pd.DataFrame(core_residues)\n",
    "    dataframe_core.to_csv(f\"{custom_name}_Core.csv\", index=False) \n",
    "            \n",
    "    dataframe_surface = pd.DataFrame(surface_residues)\n",
    "    dataframe_surface.to_csv(f\"{custom_name}_surface.csv\", index=False)"
   ]
  },
  {
   "cell_type": "markdown",
   "id": "7cf36760-0b61-4218-86a4-d7ab2195a3f7",
   "metadata": {},
   "source": [
    "## Split all dataframes depeding on their QSASA score"
   ]
  },
  {
   "cell_type": "code",
   "execution_count": 3,
   "id": "d6b36462-f78e-474b-bf14-e128207f7da7",
   "metadata": {},
   "outputs": [],
   "source": [
    "input_folder = \"Surface information/clean_files_solvent_access_info\"\n",
    "output_folder = \"Surface information\"\n",
    "os.makedirs(f\"{output_folder}/core_residues_dataframes\", exist_ok=True)\n",
    "os.makedirs(f\"{output_folder}/surface_residues_dataframes\", exist_ok=True)\n",
    "\n",
    "for file_name in os.listdir(input_folder):\n",
    "    file_path = os.path.join(input_folder, file_name)\n",
    "    if file_name.endswith(\".csv\"):\n",
    "        df = pd.read_csv(file_path)\n",
    "        custom_name = file_name[:7]\n",
    "        \n",
    "        core_residues = []\n",
    "        surface_residues = []\n",
    "        df[\"Q(SASA)\"] = df[\"Q(SASA)\"].astype(float)\n",
    "    \n",
    "    \n",
    "        for index, row in df.iterrows():\n",
    "            if not math.isnan(row[\"Q(SASA)\"]):\n",
    "                Qsasa = row[\"Q(SASA)\"]\n",
    "                \n",
    "                if Qsasa < 0.15:\n",
    "                    core_residues.append({\n",
    "                        \"chain\": row[\"chain\"], \n",
    "                        \"position\": row[\"position\"],\n",
    "                        \"IMGT numbering\": row[\"IMGT numbering\"],\n",
    "                        \"WT_AA\": row[\"WT_AA\"],\n",
    "                        \"MUT_AA\": row[\"MUT_AA\"],\n",
    "                        \"region\": row[\"region\"],\n",
    "                        \"Rosetta score\": row[\"Rosetta normalised\"],\n",
    "                        \"AntiBERTy scores\": row[\"AntiBERTy normalised\"],  \n",
    "                        \"QSASA\": Qsasa\n",
    "                    })\n",
    "                elif Qsasa >= 0.15:\n",
    "                    surface_residues.append({\n",
    "                        \"chain\": row[\"chain\"], \n",
    "                        \"position\": row[\"position\"],\n",
    "                        \"IMGT numbering\": row[\"IMGT numbering\"],\n",
    "                        \"WT_AA\": row[\"WT_AA\"],\n",
    "                        \"MUT_AA\": row[\"MUT_AA\"],\n",
    "                        \"region\": row[\"region\"],\n",
    "                        \"Rosetta score\": row[\"Rosetta normalised\"],\n",
    "                        \"AntiBERTy scores\": row[\"AntiBERTy normalised\"],  \n",
    "                        \"QSASA\": Qsasa\n",
    "                    })\n",
    "                    \n",
    "        dataframe_core = pd.DataFrame(core_residues)\n",
    "        dataframe_core.to_csv(f\"{output_folder}/core_residues_dataframes/{custom_name}.csv\", index=False) \n",
    "                \n",
    "        dataframe_surface = pd.DataFrame(surface_residues)\n",
    "        dataframe_surface.to_csv(f\"{output_folder}/surface_residues_dataframes/{custom_name}.csv\", index=False)"
   ]
  },
  {
   "cell_type": "code",
   "execution_count": 4,
   "id": "98879440-709e-463a-9978-43d609881b4c",
   "metadata": {},
   "outputs": [],
   "source": [
    "def process_file(input_file, output_folder):\n",
    "    df = pd.read_csv(input_file)\n",
    "    custom_name = os.path.basename(input_file)[:7]\n",
    "    df[\"Q(SASA)\"] = df[\"Q(SASA)\"].astype(float)\n",
    "\n",
    "    core_residues = df[df[\"Q(SASA)\"] < 0.15]\n",
    "    surface_residues = df[df[\"Q(SASA)\"] >= 0.15]\n",
    "\n",
    "    core_residues.to_csv(f\"{output_folder}/core_residues_dataframes/{custom_name}.csv\", index=False)\n",
    "    surface_residues.to_csv(f\"{output_folder}/surface_residues_dataframes/{custom_name}.csv\", index=False)\n",
    "\n",
    "def process_files(input_folder, output_folder):\n",
    "    os.makedirs(f\"{output_folder}/core_residues_dataframes\", exist_ok=True)\n",
    "    os.makedirs(f\"{output_folder}/surface_residues_dataframes\", exist_ok=True)\n",
    "\n",
    "    for file_name in os.listdir(input_folder):\n",
    "        if file_name.endswith(\".csv\"):\n",
    "            file_path = os.path.join(input_folder, file_name)\n",
    "            process_file(file_path, output_folder)\n",
    "\n",
    "input_folder = \"Surface information/clean_files_solvent_access_info\"\n",
    "output_folder = \"Surface information\"\n",
    "process_files(input_folder, output_folder)"
   ]
  }
 ],
 "metadata": {
  "kernelspec": {
   "display_name": "Python 3 (ipykernel)",
   "language": "python",
   "name": "python3"
  },
  "language_info": {
   "codemirror_mode": {
    "name": "ipython",
    "version": 3
   },
   "file_extension": ".py",
   "mimetype": "text/x-python",
   "name": "python",
   "nbconvert_exporter": "python",
   "pygments_lexer": "ipython3",
   "version": "3.10.13"
  }
 },
 "nbformat": 4,
 "nbformat_minor": 5
}
