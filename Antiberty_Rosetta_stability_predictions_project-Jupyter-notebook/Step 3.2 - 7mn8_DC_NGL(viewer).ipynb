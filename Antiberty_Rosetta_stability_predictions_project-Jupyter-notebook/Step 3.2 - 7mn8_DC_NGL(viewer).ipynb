{
 "cells": [
  {
   "cell_type": "code",
   "execution_count": 1,
   "id": "aa576781-481c-4560-b01b-4af6c8c3c17d",
   "metadata": {},
   "outputs": [
    {
     "data": {
      "application/vnd.jupyter.widget-view+json": {
       "model_id": "82e559e884ff491e8e72416a4e6fdbba",
       "version_major": 2,
       "version_minor": 0
      },
      "text/plain": []
     },
     "metadata": {},
     "output_type": "display_data"
    }
   ],
   "source": [
    "import pandas as pd\n",
    "import numpy as np\n",
    "import seaborn as sns\n",
    "import nglview as nv\n",
    "import matplotlib.pyplot as plt\n",
    "from Bio.PDB import PDBIO, Select, PDBParser\n",
    "import ipywidgets as widgets\n",
    "from matplotlib import colormaps as cmap\n",
    "import matplotlib.colors as mcolors"
   ]
  },
  {
   "cell_type": "code",
   "execution_count": 2,
   "id": "48de42ee-9498-48aa-916c-60af56091139",
   "metadata": {},
   "outputs": [],
   "source": [
    "LC_dataframe = pd.read_csv(\"Final work/Validation against clinically approved drugs/7mn8/7mn8_correlations-DF/Chains/chain_L_correlations.csv\")\n",
    "HC_dataframe = pd.read_csv(\"Final work/Validation against clinically approved drugs/7mn8/7mn8_correlations-DF/Chains/chain_H_correlations.csv\")\n",
    "\n",
    "positive_correlations_L = []\n",
    "positive_correlations_H = []\n",
    "negative_correlations_L = []\n",
    "negative_correlations_H = []\n",
    "\n",
    "# Looping through dataframes to extract positions with positive and negative correlations for LC and HC\n",
    "for dataframe in [LC_dataframe, HC_dataframe]:\n",
    "    if dataframe.equals(LC_dataframe):  # Checking if the current dataframe is LC_dataframe\n",
    "        for index, row in dataframe.iterrows():\n",
    "            if row[\"Pearson correlation\"] >= 0:\n",
    "                positive_correlations_L.append(row[\"Position\"])\n",
    "\n",
    "            elif row[\"Pearson correlation\"] <= 0:\n",
    "                negative_correlations_L.append(row[\"Position\"])\n",
    "                \n",
    "    elif dataframe.equals(HC_dataframe):\n",
    "        for index, row in dataframe.iterrows():\n",
    "            if row[\"Pearson correlation\"] >= 0:\n",
    "                positive_correlations_H.append(row[\"Position\"])\n",
    "\n",
    "            elif row[\"Pearson correlation\"] <= 0:\n",
    "                negative_correlations_H.append(row[\"Position\"])"
   ]
  },
  {
   "cell_type": "code",
   "execution_count": 3,
   "id": "27420f97-e50d-45b6-a3d3-429087d29473",
   "metadata": {},
   "outputs": [
    {
     "name": "stderr",
     "output_type": "stream",
     "text": [
      "/home/diancu/.conda/envs/antiberty/lib/python3.10/site-packages/Bio/PDB/StructureBuilder.py:89: PDBConstructionWarning: WARNING: Chain A is discontinuous at line 15227.\n",
      "  warnings.warn(\n",
      "/home/diancu/.conda/envs/antiberty/lib/python3.10/site-packages/Bio/PDB/StructureBuilder.py:89: PDBConstructionWarning: WARNING: Chain B is discontinuous at line 15269.\n",
      "  warnings.warn(\n"
     ]
    },
    {
     "data": {
      "application/vnd.jupyter.widget-view+json": {
       "model_id": "a93c6b3db9e742669206326d31eb60f8",
       "version_major": 2,
       "version_minor": 0
      },
      "text/plain": [
       "ThemeManager()"
      ]
     },
     "metadata": {},
     "output_type": "display_data"
    },
    {
     "data": {
      "application/vnd.jupyter.widget-view+json": {
       "model_id": "572093fc643641e79fd2036bf5d7a217",
       "version_major": 2,
       "version_minor": 0
      },
      "text/plain": [
       "NGLWidget(gui_style='ngl')"
      ]
     },
     "metadata": {},
     "output_type": "display_data"
    }
   ],
   "source": [
    "\"\"\"\n",
    "The following code defines a class and a function used for modifying B-factor values in a PDB structure based on \n",
    "correlation data from dataframes. It then proceeds to load the dataframes, parse the PDB structure, \n",
    "apply B-factor changes to specific chains, and save the modified structure.\n",
    "\"\"\"\n",
    "\n",
    "class ChainSelect(Select):\n",
    "    #  This class is used to select specific chains (C and D) from a PDB structure for modification.\n",
    "    def accept_chain(self, chain):\n",
    "        return chain.get_id() in [\"C\", \"D\"]\n",
    "        \n",
    "def change_bfactor(chain, df):\n",
    "    #  This function changes B-factor values in the atoms of residues in a given chain based on correlation data.\n",
    "    for residue in chain:\n",
    "        residue_id = residue.get_id()[1]\n",
    "        # print(f\"Residue ID: {residue_id}\")\n",
    "        # print(f\"Index in DataFrame: {residue_id in df.index}\")\n",
    "        if residue_id in df.index:\n",
    "            correlation = df.loc[residue_id, \"Pearson correlation\"]\n",
    "            for atom in residue:\n",
    "                atom.set_bfactor(correlation)\n",
    "        else:\n",
    "            # print(\"The b factor values have not been replaced\")\n",
    "            for atom in residue:\n",
    "                atom.set_bfactor(-1)\n",
    "            \n",
    "# Load dataframes\n",
    "LC_dataframe = pd.read_csv(\"Final work/Validation against clinically approved drugs/7mn8/7mn8_correlations-DF/Chains/chain_L_correlations.csv\")\n",
    "LC_dataframe.set_index(\"Position\", inplace=True)\n",
    "\n",
    "HC_dataframe = pd.read_csv(\"Final work/Validation against clinically approved drugs/7mn8/7mn8_correlations-DF/Chains/chain_H_correlations.csv\")\n",
    "HC_dataframe.set_index(\"Position\", inplace=True)\n",
    "\n",
    "\n",
    "parser = PDBParser()\n",
    "structure = parser.get_structure(\"7MN8\", f\"Final work/Validation against clinically approved drugs/7mn8/7mn8_pictures_and_pdb_files/7mn8.pdb\")\n",
    "\n",
    "# Change B-factor values for chain C and D\n",
    "for model in structure:\n",
    "    for chain in model:\n",
    "        chain_id = chain.get_id().strip().upper()  # Convert to uppercase and strip whitespace\n",
    "        if chain_id == \"C\":\n",
    "            change_bfactor(chain, LC_dataframe)\n",
    "        elif chain_id == \"D\":\n",
    "            change_bfactor(chain, HC_dataframe)\n",
    "\n",
    "# Save the modified structure\n",
    "io = PDBIO()\n",
    "io.set_structure(structure)\n",
    "io.save(f\"Final work/Validation against clinically approved drugs/7mn8/7mn8_pictures_and_pdb_files/7MN8_modified.pdb\", ChainSelect())\n",
    "\n",
    "positive_positions_H = \", \".join(map(str, positive_correlations_H))\n",
    "positive_positions_L = \", \".join(map(str, positive_correlations_L))\n",
    "\n",
    "\n",
    "# Display the modified structure with nglview\n",
    "view = nv.show_structure_file(f\"Final work/Validation against clinically approved drugs/7mn8/7mn8_pictures_and_pdb_files/7MN8_modified.pdb\")\n",
    "view.clear_representations()\n",
    "view.add_representation('cartoon', selection=':C and 1-107', color=\"bfactor\")\n",
    "view.add_representation('cartoon', selection=':D and 1-120', color_scheme=\"bfactor\")\n",
    "view.add_representation('ball+stick', selection=':C and 16-26', color=\"bfactor\")\n",
    "view.add_representation('ball+stick', selection=':D and 16-26', color_scheme=\"bfactor\")\n",
    "# view.add_surface(selection=':C and 1-107', color_scheme=\"bfactor\")\n",
    "# view.add_surface(selection=':D and 1-120', color_scheme=\"bfactor\")\n",
    "# view.add_representation('ball+stick', selection=':C and 1-107', color=\"bfactor\")\n",
    "# view.add_representation('ball+stick', selection=f\":C and ({positive_positions_L})\", color_scheme=\"bfactor\")\n",
    "# view.add_label(selection=f\":C and ({positive_positions_L})\", labelType=\"resname\", labelGrouping = \"residue\", color =\"black\")\n",
    "# view.add_representation('ball+stick', selection=f\":D and ({positive_positions_H})\", color_scheme=\"bfactor\")\n",
    "# view.add_label(selection=f\":D and ({positive_positions_H})\", labelType=\"resname\", labelGrouping = \"residue\", color =\"black\")\n",
    "\n",
    "view.gui_style = \"NGL\"\n",
    "\n",
    "view"
   ]
  },
  {
   "cell_type": "code",
   "execution_count": 4,
   "id": "5c7b9fe0-3b9b-4cb3-99c9-edacf88c6919",
   "metadata": {},
   "outputs": [
    {
     "data": {
      "image/png": "[encoded data removed]",
      "text/plain": [
       "<Figure size 600x100 with 2 Axes>"
      ]
     },
     "metadata": {},
     "output_type": "display_data"
    }
   ],
   "source": [
    "\"\"\"\n",
    "The following code generates a color bar legend for B-factor values in the range of -0.7 to 0.7, using the 'bwr' colormap. \n",
    "This legend was used for the figures displayed in PyMOL (from the paper) to represent the B-factor values.\n",
    "\"\"\"\n",
    "\n",
    "# Define colormap and B-factor range\n",
    "cmap = plt.get_cmap(\"bwr\")\n",
    "bfactor_range = np.linspace(-0.7,0.7)\n",
    "\n",
    "# Create and save a horisontal color bar legend\n",
    "fig, ax = plt.subplots(figsize=(6, 1))\n",
    "cax = ax.imshow([bfactor_range], aspect='auto', cmap=\"bwr\")\n",
    "fig.colorbar(cax, orientation='horizontal', label='B-factor')\n",
    "plt.savefig(f\"Final work/Validation against clinically approved drugs/7mn8/7mn8_pictures_and_pdb_files/pymol_colour_legend_bwr\", bbox_inches=\"tight\")"
   ]
  },
  {
   "cell_type": "code",
   "execution_count": 5,
   "id": "3c0d4068-9f7d-4f30-885c-4d1571cbc8c0",
   "metadata": {},
   "outputs": [
    {
     "data": {
      "image/png": "[encoded data removed]",
      "text/plain": [
       "<Figure size 100x600 with 2 Axes>"
      ]
     },
     "metadata": {},
     "output_type": "display_data"
    }
   ],
   "source": [
    "\"\"\"\n",
    "The same as above but it is vertical\n",
    "\"\"\"\n",
    "bfactor_range = np.linspace(-3, 2)\n",
    "\n",
    "fig, ax = plt.subplots(figsize=(1, 6))  # Adjusted figsize for vertical color bar\n",
    "cax = ax.imshow([bfactor_range], aspect='auto', cmap=\"bwr\")\n",
    "cbar = fig.colorbar(cax, ax=ax, orientation='vertical', label='B-factor')\n",
    "# plt.savefig(\"Final work/Validation against clinically approved drugs/7mn8/7mn8_pictures_and_pdb_files/pymol_trastuzumab_colour_legend_bwr.png\", bbox_inches=\"tight\")\n",
    "plt.show()"
   ]
  },
  {
   "cell_type": "markdown",
   "id": "2cf401ad-85ed-4b6f-a4de-71987233f843",
   "metadata": {},
   "source": [
    "## Pattern seen in typtophan\n",
    "take the b factor values and replace them with the scores for the tryptophan."
   ]
  },
  {
   "cell_type": "code",
   "execution_count": 6,
   "id": "7c9422bd-e396-4838-8c0e-b9b6f63694b5",
   "metadata": {},
   "outputs": [
    {
     "name": "stderr",
     "output_type": "stream",
     "text": [
      "/home/diancu/.conda/envs/antiberty/lib/python3.10/site-packages/Bio/PDB/StructureBuilder.py:89: PDBConstructionWarning: WARNING: Chain A is discontinuous at line 15227.\n",
      "  warnings.warn(\n",
      "/home/diancu/.conda/envs/antiberty/lib/python3.10/site-packages/Bio/PDB/StructureBuilder.py:89: PDBConstructionWarning: WARNING: Chain B is discontinuous at line 15269.\n",
      "  warnings.warn(\n"
     ]
    },
    {
     "data": {
      "application/vnd.jupyter.widget-view+json": {
       "model_id": "4b7d0df58e1f40a4beb8d098988e9478",
       "version_major": 2,
       "version_minor": 0
      },
      "text/plain": [
       "NGLWidget(gui_style='ngl')"
      ]
     },
     "metadata": {},
     "output_type": "display_data"
    }
   ],
   "source": [
    "class ChainSelect(Select):\n",
    "    def accept_chain(self, chain):\n",
    "        return chain.get_id() in [\"C\", \"D\"]\n",
    "        \n",
    "def change_bfactor(chain, df):\n",
    "    for residue in chain:\n",
    "        residue_id = residue.get_id()[1]\n",
    "        # print(f\"Residue ID: {residue_id}\")\n",
    "        # print(f\"Index in DataFrame: {residue_id in df.index}\")\n",
    "        if residue_id in df.index:\n",
    "            score = df.loc[residue_id, \"Rosetta normalised\"]\n",
    "            # if isinstance(score, pd.Series):\n",
    "            #     print(df.loc[\"position\"])\n",
    "            for atom in residue:\n",
    "                atom.set_bfactor(score)\n",
    "        else:\n",
    "            # print(\"The b factor values have not been replaced\")\n",
    "            for atom in residue:\n",
    "                atom.set_bfactor(0)\n",
    "            \n",
    "trastuzumab_dataframe = pd.read_csv(\"Clean files/7mn8_DC.csv\")\n",
    "trastuzumab_dataframe_tryptophan = trastuzumab_dataframe[trastuzumab_dataframe[\"MUT_AA\"] == \"W\"]\n",
    "LC_tryptophan = trastuzumab_dataframe_tryptophan[trastuzumab_dataframe_tryptophan[\"chain\"] == \"L\"]\n",
    "LC_tryptophan.set_index(\"position\", inplace=True)\n",
    "\n",
    "HC_tryptophan =  trastuzumab_dataframe_tryptophan[trastuzumab_dataframe_tryptophan[\"chain\"] == \"H\"]\n",
    "HC_tryptophan.set_index(\"position\", inplace=True)\n",
    "\n",
    "parser = PDBParser()\n",
    "structure = parser.get_structure(\"7MN8\", f\"Final work/Validation against clinically approved drugs/7mn8/7mn8_pictures_and_pdb_files/7mn8.pdb\")\n",
    "\n",
    "# Change B-factor values for chain C and D\n",
    "for model in structure:\n",
    "    for chain in model:\n",
    "        chain_id = chain.get_id().strip().upper()  # Convert to uppercase and strip whitespace\n",
    "        if chain_id == \"C\":\n",
    "            change_bfactor(chain, LC_tryptophan)\n",
    "        elif chain_id == \"D\":\n",
    "            change_bfactor(chain, HC_tryptophan)\n",
    "\n",
    "# Save the modified structure\n",
    "io = PDBIO()\n",
    "io.set_structure(structure)\n",
    "io.save(f\"Final work/Validation against clinically approved drugs/7mn8/7mn8_pictures_and_pdb_files/7MN8_tryptophan_rosetta.pdb\", ChainSelect())\n",
    "\n",
    "# Display the modified structure with nglview\n",
    "view = nv.show_structure_file(f\"Final work/Validation against clinically approved drugs/7mn8/7mn8_pictures_and_pdb_files/7MN8_tryptophan_rosetta.pdb\")\n",
    "view.clear_representations()\n",
    "view.add_representation('cartoon', selection=':C and 1-107', color=\"bfactor\")\n",
    "view.add_representation('cartoon', selection=':D and 1-120', color_scheme=\"bfactor\")\n",
    "view.gui_style = \"NGL\"\n",
    "view"
   ]
  },
  {
   "cell_type": "code",
   "execution_count": 7,
   "id": "63d7af49-29e2-4930-be85-b49dd9ee68d6",
   "metadata": {},
   "outputs": [
    {
     "name": "stderr",
     "output_type": "stream",
     "text": [
      "/home/diancu/.conda/envs/antiberty/lib/python3.10/site-packages/Bio/PDB/StructureBuilder.py:89: PDBConstructionWarning: WARNING: Chain A is discontinuous at line 15227.\n",
      "  warnings.warn(\n",
      "/home/diancu/.conda/envs/antiberty/lib/python3.10/site-packages/Bio/PDB/StructureBuilder.py:89: PDBConstructionWarning: WARNING: Chain B is discontinuous at line 15269.\n",
      "  warnings.warn(\n"
     ]
    },
    {
     "data": {
      "application/vnd.jupyter.widget-view+json": {
       "model_id": "2ec0d1bbb79a409b9c8c5986a39a9e36",
       "version_major": 2,
       "version_minor": 0
      },
      "text/plain": [
       "NGLWidget(gui_style='ngl')"
      ]
     },
     "metadata": {},
     "output_type": "display_data"
    }
   ],
   "source": [
    "class ChainSelect(Select):\n",
    "    def accept_chain(self, chain):\n",
    "        return chain.get_id() in [\"C\", \"D\"]\n",
    "        \n",
    "def change_bfactor(chain, df):\n",
    "    for residue in chain:\n",
    "        residue_id = residue.get_id()[1]\n",
    "        # print(f\"Residue ID: {residue_id}\")\n",
    "        # print(f\"Index in DataFrame: {residue_id in df.index}\")\n",
    "        if residue_id in df.index:\n",
    "            score = df.loc[residue_id, \"AntiBERTy normalised\"]\n",
    "            # if isinstance(score, pd.Series):\n",
    "            #     print(df.loc[\"position\"])\n",
    "            for atom in residue:\n",
    "                atom.set_bfactor(score)\n",
    "        else:\n",
    "            # print(\"The b factor values have not been replaced\")\n",
    "            for atom in residue:\n",
    "                atom.set_bfactor(0)\n",
    "            \n",
    "trastuzumab_dataframe = pd.read_csv(\"Clean files/7mn8_DC.csv\")\n",
    "trastuzumab_dataframe_tryptophan = trastuzumab_dataframe[trastuzumab_dataframe[\"MUT_AA\"] == \"W\"]\n",
    "LC_tryptophan = trastuzumab_dataframe_tryptophan[trastuzumab_dataframe_tryptophan[\"chain\"] == \"L\"]\n",
    "LC_tryptophan.set_index(\"position\", inplace=True)\n",
    "\n",
    "HC_tryptophan =  trastuzumab_dataframe_tryptophan[trastuzumab_dataframe_tryptophan[\"chain\"] == \"H\"]\n",
    "HC_tryptophan.set_index(\"position\", inplace=True)\n",
    "\n",
    "parser = PDBParser()\n",
    "structure = parser.get_structure(\"7MN8\", f\"Final work/Validation against clinically approved drugs/7mn8/7mn8_pictures_and_pdb_files/7mn8.pdb\")\n",
    "\n",
    "# Change B-factor values for chain C and D\n",
    "for model in structure:\n",
    "    for chain in model:\n",
    "        chain_id = chain.get_id().strip().upper()  # Convert to uppercase and strip whitespace\n",
    "        if chain_id == \"C\":\n",
    "            change_bfactor(chain, LC_tryptophan)\n",
    "        elif chain_id == \"D\":\n",
    "            change_bfactor(chain, HC_tryptophan)\n",
    "\n",
    "# Save the modified structure\n",
    "io = PDBIO()\n",
    "io.set_structure(structure)\n",
    "io.save(f\"Final work/Validation against clinically approved drugs/7mn8/7mn8_pictures_and_pdb_files/7MN8_tryptophan_antiberty.pdb\", ChainSelect())\n",
    "\n",
    "# Display the modified structure with nglview\n",
    "view = nv.show_structure_file(f\"Final work/Validation against clinically approved drugs/7mn8/7mn8_pictures_and_pdb_files/7MN8_tryptophan_antiberty.pdb\")\n",
    "view.clear_representations()\n",
    "view.add_representation('cartoon', selection=':C and 1-107', color=\"bfactor\")\n",
    "view.add_representation('cartoon', selection=':D and 1-120', color_scheme=\"bfactor\")\n",
    "view.gui_style = \"NGL\"\n",
    "view"
   ]
  },
  {
   "cell_type": "markdown",
   "id": "0d1d8b82-b3bc-4134-b87c-9628d821fa0d",
   "metadata": {},
   "source": [
    "## Pattern seen in alanine\n",
    "take the b factor values and replace them with the scores for the tryptophan."
   ]
  },
  {
   "cell_type": "code",
   "execution_count": 8,
   "id": "637e5e07-bc55-49a7-a219-f08ae2d7fb5e",
   "metadata": {},
   "outputs": [
    {
     "name": "stderr",
     "output_type": "stream",
     "text": [
      "/home/diancu/.conda/envs/antiberty/lib/python3.10/site-packages/Bio/PDB/StructureBuilder.py:89: PDBConstructionWarning: WARNING: Chain A is discontinuous at line 15227.\n",
      "  warnings.warn(\n",
      "/home/diancu/.conda/envs/antiberty/lib/python3.10/site-packages/Bio/PDB/StructureBuilder.py:89: PDBConstructionWarning: WARNING: Chain B is discontinuous at line 15269.\n",
      "  warnings.warn(\n"
     ]
    },
    {
     "data": {
      "application/vnd.jupyter.widget-view+json": {
       "model_id": "f4f699de2ef24525b179eddec52d4ee0",
       "version_major": 2,
       "version_minor": 0
      },
      "text/plain": [
       "NGLWidget(gui_style='ngl')"
      ]
     },
     "metadata": {},
     "output_type": "display_data"
    }
   ],
   "source": [
    "class ChainSelect(Select):\n",
    "    def accept_chain(self, chain):\n",
    "        return chain.get_id() in [\"C\", \"D\"]\n",
    "        \n",
    "def change_bfactor(chain, df):\n",
    "    for residue in chain:\n",
    "        residue_id = residue.get_id()[1]\n",
    "        # print(f\"Residue ID: {residue_id}\")\n",
    "        # print(f\"Index in DataFrame: {residue_id in df.index}\")\n",
    "        if residue_id in df.index:\n",
    "            score = df.loc[residue_id, \"Rosetta normalised\"]\n",
    "            # if isinstance(score, pd.Series):\n",
    "            #     print(df.loc[\"position\"])\n",
    "            for atom in residue:\n",
    "                atom.set_bfactor(score)\n",
    "        else:\n",
    "            # print(\"The b factor values have not been replaced\")\n",
    "            for atom in residue:\n",
    "                atom.set_bfactor(0)\n",
    "            \n",
    "trastuzumab_dataframe = pd.read_csv(\"Clean files/7mn8_DC.csv\")\n",
    "trastuzumab_dataframe_tryptophan = trastuzumab_dataframe[trastuzumab_dataframe[\"MUT_AA\"] == \"A\"]\n",
    "LC_tryptophan = trastuzumab_dataframe_tryptophan[trastuzumab_dataframe_tryptophan[\"chain\"] == \"L\"]\n",
    "LC_tryptophan.set_index(\"position\", inplace=True)\n",
    "\n",
    "HC_tryptophan =  trastuzumab_dataframe_tryptophan[trastuzumab_dataframe_tryptophan[\"chain\"] == \"H\"]\n",
    "HC_tryptophan.set_index(\"position\", inplace=True)\n",
    "\n",
    "parser = PDBParser()\n",
    "structure = parser.get_structure(\"7MN8\", f\"Final work/Validation against clinically approved drugs/7mn8/7mn8_pictures_and_pdb_files/7mn8.pdb\")\n",
    "\n",
    "# Change B-factor values for chain C and D\n",
    "for model in structure:\n",
    "    for chain in model:\n",
    "        chain_id = chain.get_id().strip().upper()  # Convert to uppercase and strip whitespace\n",
    "        if chain_id == \"C\":\n",
    "            change_bfactor(chain, LC_tryptophan)\n",
    "        elif chain_id == \"D\":\n",
    "            change_bfactor(chain, HC_tryptophan)\n",
    "\n",
    "# Save the modified structure\n",
    "io = PDBIO()\n",
    "io.set_structure(structure)\n",
    "io.save(f\"Final work/Validation against clinically approved drugs/7mn8/7mn8_pictures_and_pdb_files/7MN8_alanine_rosetta.pdb\", ChainSelect())\n",
    "\n",
    "# Display the modified structure with nglview\n",
    "view = nv.show_structure_file(f\"Final work/Validation against clinically approved drugs/7mn8/7mn8_pictures_and_pdb_files/7MN8_alanine_rosetta.pdb\")\n",
    "view.clear_representations()\n",
    "view.add_representation('cartoon', selection=':C and 1-107', color=\"bfactor\")\n",
    "view.add_representation('cartoon', selection=':D and 1-120', color_scheme=\"bfactor\")\n",
    "view.gui_style = \"NGL\"\n",
    "view"
   ]
  },
  {
   "cell_type": "code",
   "execution_count": 9,
   "id": "8904feb8-6b06-49e5-8128-bc0fc52a675b",
   "metadata": {},
   "outputs": [
    {
     "name": "stderr",
     "output_type": "stream",
     "text": [
      "/home/diancu/.conda/envs/antiberty/lib/python3.10/site-packages/Bio/PDB/StructureBuilder.py:89: PDBConstructionWarning: WARNING: Chain A is discontinuous at line 15227.\n",
      "  warnings.warn(\n",
      "/home/diancu/.conda/envs/antiberty/lib/python3.10/site-packages/Bio/PDB/StructureBuilder.py:89: PDBConstructionWarning: WARNING: Chain B is discontinuous at line 15269.\n",
      "  warnings.warn(\n"
     ]
    },
    {
     "data": {
      "application/vnd.jupyter.widget-view+json": {
       "model_id": "d77302bdb96e400a80941ef0efcdcff7",
       "version_major": 2,
       "version_minor": 0
      },
      "text/plain": [
       "NGLWidget(gui_style='ngl')"
      ]
     },
     "metadata": {},
     "output_type": "display_data"
    }
   ],
   "source": [
    "class ChainSelect(Select):\n",
    "    def accept_chain(self, chain):\n",
    "        return chain.get_id() in [\"C\", \"D\"]\n",
    "        \n",
    "def change_bfactor(chain, df):\n",
    "    for residue in chain:\n",
    "        residue_id = residue.get_id()[1]\n",
    "        # print(f\"Residue ID: {residue_id}\")\n",
    "        # print(f\"Index in DataFrame: {residue_id in df.index}\")\n",
    "        if residue_id in df.index:\n",
    "            score = df.loc[residue_id, \"AntiBERTy normalised\"]\n",
    "            # if isinstance(score, pd.Series):\n",
    "            #     print(df.loc[\"position\"])\n",
    "            for atom in residue:\n",
    "                atom.set_bfactor(score)\n",
    "        else:\n",
    "            # print(\"The b factor values have not been replaced\")\n",
    "            for atom in residue:\n",
    "                atom.set_bfactor(0)\n",
    "            \n",
    "trastuzumab_dataframe = pd.read_csv(\"Clean files/7mn8_DC.csv\")\n",
    "trastuzumab_dataframe_tryptophan = trastuzumab_dataframe[trastuzumab_dataframe[\"MUT_AA\"] == \"A\"]\n",
    "LC_tryptophan = trastuzumab_dataframe_tryptophan[trastuzumab_dataframe_tryptophan[\"chain\"] == \"L\"]\n",
    "LC_tryptophan.set_index(\"position\", inplace=True)\n",
    "\n",
    "HC_tryptophan =  trastuzumab_dataframe_tryptophan[trastuzumab_dataframe_tryptophan[\"chain\"] == \"H\"]\n",
    "HC_tryptophan.set_index(\"position\", inplace=True)\n",
    "\n",
    "parser = PDBParser()\n",
    "structure = parser.get_structure(\"7MN8\", f\"Final work/Validation against clinically approved drugs/7mn8/7mn8_pictures_and_pdb_files/7mn8.pdb\")\n",
    "\n",
    "# Change B-factor values for chain C and D\n",
    "for model in structure:\n",
    "    for chain in model:\n",
    "        chain_id = chain.get_id().strip().upper()  # Convert to uppercase and strip whitespace\n",
    "        if chain_id == \"C\":\n",
    "            change_bfactor(chain, LC_tryptophan)\n",
    "        elif chain_id == \"D\":\n",
    "            change_bfactor(chain, HC_tryptophan)\n",
    "\n",
    "# Save the modified structure\n",
    "io = PDBIO()\n",
    "io.set_structure(structure)\n",
    "io.save(f\"Final work/Validation against clinically approved drugs/7mn8/7mn8_pictures_and_pdb_files/7MN8_alanine_antiberty.pdb\", ChainSelect())\n",
    "\n",
    "# Display the modified structure with nglview\n",
    "view = nv.show_structure_file(f\"Final work/Validation against clinically approved drugs/7mn8/7mn8_pictures_and_pdb_files/7MN8_alanine_antiberty.pdb\")\n",
    "view.clear_representations()\n",
    "view.add_representation('cartoon', selection=':C and 1-107', color=\"bfactor\")\n",
    "view.add_representation('cartoon', selection=':D and 1-120', color_scheme=\"bfactor\")\n",
    "view.gui_style = \"NGL\"\n",
    "view"
   ]
  }
 ],
 "metadata": {
  "kernelspec": {
   "display_name": "Python 3 (ipykernel)",
   "language": "python",
   "name": "python3"
  },
  "language_info": {
   "codemirror_mode": {
    "name": "ipython",
    "version": 3
   },
   "file_extension": ".py",
   "mimetype": "text/x-python",
   "name": "python",
   "nbconvert_exporter": "python",
   "pygments_lexer": "ipython3",
   "version": "3.10.13"
  }
 },
 "nbformat": 4,
 "nbformat_minor": 5
}
