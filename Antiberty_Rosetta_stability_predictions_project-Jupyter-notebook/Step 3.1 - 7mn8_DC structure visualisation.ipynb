{
 "cells": [
  {
   "cell_type": "code",
   "execution_count": 1,
   "id": "a3223d64-7c02-459e-a50d-aedf8ea8009f",
   "metadata": {},
   "outputs": [
    {
     "data": {
      "application/vnd.jupyter.widget-view+json": {
       "model_id": "3bb154477d2e416db9f9e8b7f86b5349",
       "version_major": 2,
       "version_minor": 0
      },
      "text/plain": []
     },
     "metadata": {},
     "output_type": "display_data"
    }
   ],
   "source": [
    "import pandas as pd\n",
    "from Bio import PDB\n",
    "from Bio.PDB import PDBIO, Selection\n",
    "import urllib.request\n",
    "import nglview as nv\n",
    "from matplotlib import colormaps as cmap"
   ]
  },
  {
   "cell_type": "markdown",
   "id": "c29d11ee-da34-4d07-b056-0e142d157f9a",
   "metadata": {},
   "source": [
    "# Import the pdb file for Trastuzumab\n",
    "This is because we do not have it downloaded (we can have downloaded and then read)"
   ]
  },
  {
   "cell_type": "code",
   "execution_count": 2,
   "id": "0fd5de89-898f-4b4d-aa78-44e5c26e34f2",
   "metadata": {},
   "outputs": [],
   "source": [
    "\"\"\"\n",
    "for chain.id we can also use the residue.id to find the residues in the structure\n",
    "    for model in Trastuzumab:\n",
    "        for chain in model:\n",
    "            residues = [residue.id for residue in chain]\n",
    "\n",
    "this creates a list for all the residues in the chain (they are together)\n",
    "if you want them seperately you need to write something like this:\n",
    "\n",
    "all_residue_ids = []\n",
    "for model in Trastuzumab:\n",
    "    for chain in model:\n",
    "        residues = [residue.id for residue in chain]\n",
    "        all_residues_ids.append(residues)\n",
    "\n",
    "Selection.unfold_entities(selection, target_level) \n",
    "- selection can be both the name of the structure or just called \"structure\"\n",
    "    - others: models (may be more structures), chain, residue, atom\n",
    "- target_level - how detailed we want this to be\n",
    "    - \"structure\", \"model\", \"chain\", \"residue\", or \"atom\".\n",
    "\"\"\"\n",
    "\n",
    "\n",
    "def download_and_parse_pdb(pdb_code):\n",
    "    pdb_filename = f\"{pdb_code.lower()}.pdb\"\n",
    "    pdb_url = f\"https://files.rcsb.org/download/{pdb_code.upper()}.pdb\"  # link needed to obtain the pdb file\n",
    "\n",
    "    try:\n",
    "        with open(pdb_filename, \"r\"):\n",
    "            pass\n",
    "    except FileNotFoundError:\n",
    "        urllib.request.urlretrieve(trastuzumab_url, trastuzumab_filename)  # download the file and save it locally\n",
    "\n",
    "    parser = PDB.PDBParser(QUIET=True)\n",
    "    structure = parser.get_structure(pdb_code, pdb_filename)\n",
    "\n",
    "    return structure\n",
    "\n",
    "Trastuzumab = download_and_parse_pdb(\"7MN8\")\n",
    "light_chain = Selection.unfold_entities(Trastuzumab, \"C\")[3]"
   ]
  },
  {
   "cell_type": "markdown",
   "id": "93e53091-e3b4-4cb6-9c13-b716526d82e3",
   "metadata": {},
   "source": [
    "## Display the light chain"
   ]
  },
  {
   "cell_type": "code",
   "execution_count": 3,
   "id": "0932c99b-15a2-4933-9d00-d9ded6442abc",
   "metadata": {},
   "outputs": [
    {
     "name": "stdout",
     "output_type": "stream",
     "text": [
      "[' ', 'picking', 'random', 'uniform', 'atomindex', 'residueindex', 'chainindex', 'modelindex', 'sstruc', 'element', 'resname', 'bfactor', 'hydrophobicity', 'value', 'volume', 'occupancy']\n"
     ]
    }
   ],
   "source": [
    "print(nv.color.COLOR_SCHEMES)"
   ]
  },
  {
   "cell_type": "code",
   "execution_count": 3,
   "id": "2b2057de-8e40-4cdd-866e-3d05cd007485",
   "metadata": {},
   "outputs": [
    {
     "data": {
      "application/vnd.jupyter.widget-view+json": {
       "model_id": "69dd883f46ac4922abbee767b9e9dbfd",
       "version_major": 2,
       "version_minor": 0
      },
      "text/plain": [
       "NGLWidget()"
      ]
     },
     "metadata": {},
     "output_type": "display_data"
    }
   ],
   "source": [
    "chains = [chain.id for chain in Trastuzumab[0]]  \n",
    "# print(chains)\n",
    "\n",
    "# select the chains needed \n",
    "light_chain = Selection.unfold_entities(Trastuzumab, \"C\")[3]  # in this case LV was chain 3\n",
    "heavy_chain = Selection.unfold_entities(Trastuzumab, \"C\")[4]  # \"C\" stands for chain (can also be \"R\" - residues)\n",
    "structure_light_chain = nv.show_biopython(light_chain)\n",
    "structure_heavy_chain = nv.show_biopython(heavy_chain)\n",
    "structure_light_chain.clear_representations()\n",
    "structure_light_chain.add_representation(repr_type = \"cartoon\", colorScheme = \"bfactor\")\n",
    "\n",
    "structure_light_chain\n",
    "# structure_heavy_chain"
   ]
  },
  {
   "cell_type": "markdown",
   "id": "c2bb2f54-95ee-4740-81c2-a66a8479cb2d",
   "metadata": {},
   "source": [
    "# Colour light chain (Variable region) of Trastuzumab\n",
    "Replace the B-factor values for correlations calculated in the 78mn_DC analysis file (chain_L_correlation_df.csv file)\n",
    "Do this for both the Pearson and Spearman correlations (produce 2 different structures)"
   ]
  },
  {
   "cell_type": "code",
   "execution_count": 4,
   "id": "5d32cce8-8826-4e51-aa19-2c85ac29a6e5",
   "metadata": {},
   "outputs": [
    {
     "data": {
      "application/vnd.jupyter.widget-view+json": {
       "model_id": "2995e473f4644ea8b4edc48c6b7c2c83",
       "version_major": 2,
       "version_minor": 0
      },
      "text/plain": [
       "NGLWidget()"
      ]
     },
     "metadata": {},
     "output_type": "display_data"
    }
   ],
   "source": [
    "light_chain = Selection.unfold_entities(Trastuzumab, \"C\")[3]\n",
    "\n",
    "\n",
    "LC_dataframe = pd.read_csv(\"Final work/Validation against clinically approved drugs/7mn8/7mn8_correlations-DF/Chains/chain_L_correlations.csv\")\n",
    "LC_dataframe.set_index(\"Position\", inplace=True)\n",
    "cmap = cmap[\"viridis\"]\n",
    "residue_colours = {}\n",
    "\n",
    "for residue in light_chain:\n",
    "    residue_id = residue.get_id()[1]\n",
    "    if residue_id in LC_dataframe.index:\n",
    "        correlation = LC_dataframe.loc[residue_id, \"Pearson correlation\"]\n",
    "        colour = cmap(correlation)\n",
    "        residue_colours[residue] = colour\n",
    "\n",
    "        for atom in residue:\n",
    "            atom.set_bfactor(correlation)\n",
    "    else:\n",
    "        for atom in residue:\n",
    "            atom.set_bfactor(-1)\n",
    "\n",
    "io = PDBIO()\n",
    "io.set_structure(light_chain)\n",
    "io.save(\"Final work/Validation against clinically approved drugs/7mn8/7mn8_pictures_and_pdb_files/coloured_light_chain_pearson.pdb\")\n",
    "\n",
    "view = nv.show_structure_file(\"Final work/Validation against clinically approved drugs/7mn8/7mn8_pictures_and_pdb_files/coloured_light_chain_pearson.pdb\")\n",
    "view.clear_representations()\n",
    "view.add_representation(repr_type = \"surface\", colorScheme = \"bfactor\")\n",
    "view"
   ]
  },
  {
   "cell_type": "code",
   "execution_count": 5,
   "id": "873bc624-0404-4ed8-8261-85c4fe1eb3e4",
   "metadata": {},
   "outputs": [
    {
     "data": {
      "application/vnd.jupyter.widget-view+json": {
       "model_id": "faa56437e7c1476a8630914b2459ea78",
       "version_major": 2,
       "version_minor": 0
      },
      "text/plain": [
       "NGLWidget()"
      ]
     },
     "metadata": {},
     "output_type": "display_data"
    }
   ],
   "source": [
    "residue_colours = {}\n",
    "\n",
    "for residue in light_chain:\n",
    "    residue_id = residue.get_id()[1]\n",
    "    if residue_id in LC_dataframe.index:\n",
    "        correlation = LC_dataframe.loc[residue_id, \"Spearman correlation\"]\n",
    "        colour = cmap(correlation)\n",
    "        residue_colours[residue] = colour\n",
    "\n",
    "        for atom in residue:\n",
    "            atom.set_bfactor(correlation)\n",
    "    else:\n",
    "        for atom in residue:\n",
    "            atom.set_bfactor(-1)\n",
    "\n",
    "io = PDBIO()\n",
    "io.set_structure(light_chain)\n",
    "io.save(\"Final work/Validation against clinically approved drugs/7mn8/7mn8_pictures_and_pdb_files/coloured_light_chain_spearman.pdb\")\n",
    "\n",
    "view = nv.show_structure_file(\"Final work/Validation against clinically approved drugs/7mn8/7mn8_pictures_and_pdb_files/coloured_light_chain_spearman.pdb\")\n",
    "view.clear_representations()\n",
    "view.add_representation(repr_type = \"surface\", colorScheme = \"bfactor\")\n",
    "view"
   ]
  },
  {
   "cell_type": "markdown",
   "id": "0c5c1cad-eb14-4565-91be-265409ff4b19",
   "metadata": {},
   "source": [
    "# Colour heavy chain (Variable region) of Trastuzumab\n",
    "\n",
    "Replace the B-factor values for correlations calculated in the 78mn_DC analysis file (chain_H_correlation_df.csv file) Do this for both the Pearson and Spearman correlations (produce 2 different structures)"
   ]
  },
  {
   "cell_type": "code",
   "execution_count": 6,
   "id": "a89ec1ad-b5b8-47d4-a025-8159a6e59d0b",
   "metadata": {},
   "outputs": [
    {
     "data": {
      "application/vnd.jupyter.widget-view+json": {
       "model_id": "25013f5bf9df472ca971817a483b28e9",
       "version_major": 2,
       "version_minor": 0
      },
      "text/plain": [
       "NGLWidget()"
      ]
     },
     "metadata": {},
     "output_type": "display_data"
    }
   ],
   "source": [
    "heavy_chain = Selection.unfold_entities(Trastuzumab, \"C\")[4]\n",
    "\n",
    "\n",
    "HC_dataframe = pd.read_csv(\"Final work/Validation against clinically approved drugs/7mn8/7mn8_correlations-DF/Chains/chain_H_correlations.csv\")\n",
    "HC_dataframe.set_index(\"Position\", inplace=True)\n",
    "\n",
    "residue_colours_h = {}\n",
    "\n",
    "for residue in heavy_chain:\n",
    "    residue_id = residue.get_id()[1]\n",
    "    if residue_id in HC_dataframe.index:\n",
    "        correlation = HC_dataframe.loc[residue_id, \"Pearson correlation\"]\n",
    "        colour = cmap(correlation)\n",
    "        residue_colours[residue] = colour\n",
    "\n",
    "        for atom in residue:\n",
    "            atom.set_bfactor(correlation)\n",
    "    else:\n",
    "        for atom in residue:\n",
    "            atom.set_bfactor(-1)\n",
    "\n",
    "io = PDBIO()\n",
    "io.set_structure(heavy_chain)\n",
    "io.save(\"Final work/Validation against clinically approved drugs/7mn8/7mn8_pictures_and_pdb_files/coloured_heavy_chain_pearson.pdb\")\n",
    "\n",
    "view = nv.show_structure_file(\"Final work/Validation against clinically approved drugs/7mn8/7mn8_pictures_and_pdb_files/coloured_heavy_chain_pearson.pdb\")\n",
    "view.clear_representations()\n",
    "view.add_representation(repr_type = \"surface\", colorScheme = \"bfactor\")\n",
    "view"
   ]
  },
  {
   "cell_type": "code",
   "execution_count": 7,
   "id": "d1939a98-ced8-4e3f-8e9d-f14000a8cf4c",
   "metadata": {},
   "outputs": [
    {
     "data": {
      "application/vnd.jupyter.widget-view+json": {
       "model_id": "18ae2f8886cc4709a2e0864f7eeb78d8",
       "version_major": 2,
       "version_minor": 0
      },
      "text/plain": [
       "NGLWidget()"
      ]
     },
     "metadata": {},
     "output_type": "display_data"
    }
   ],
   "source": [
    "residue_colours = {}\n",
    "\n",
    "for residue in heavy_chain:\n",
    "    residue_id = residue.get_id()[1]\n",
    "    if residue_id in HC_dataframe.index:\n",
    "        correlation = HC_dataframe.loc[residue_id, \"Spearman correlation\"]\n",
    "        colour = cmap(correlation)\n",
    "        residue_colours[residue] = colour\n",
    "\n",
    "        for atom in residue:\n",
    "            atom.set_bfactor(correlation)\n",
    "    else:\n",
    "        for atom in residue:\n",
    "            atom.set_bfactor(-1)\n",
    "\n",
    "io = PDBIO()\n",
    "io.set_structure(heavy_chain)\n",
    "io.save(\"Final work/Validation against clinically approved drugs/7mn8/7mn8_pictures_and_pdb_files/coloured_heavy_chain_spearman.pdb\")\n",
    "\n",
    "view = nv.show_structure_file(\"Final work/Validation against clinically approved drugs/7mn8/7mn8_pictures_and_pdb_files/coloured_heavy_chain_spearman.pdb\")\n",
    "view.clear_representations()\n",
    "view.add_representation(repr_type = \"surface\", colorScheme = \"bfactor\")\n",
    "view"
   ]
  }
 ],
 "metadata": {
  "kernelspec": {
   "display_name": "Python 3 (ipykernel)",
   "language": "python",
   "name": "python3"
  },
  "language_info": {
   "codemirror_mode": {
    "name": "ipython",
    "version": 3
   },
   "file_extension": ".py",
   "mimetype": "text/x-python",
   "name": "python",
   "nbconvert_exporter": "python",
   "pygments_lexer": "ipython3",
   "version": "3.10.13"
  }
 },
 "nbformat": 4,
 "nbformat_minor": 5
}
