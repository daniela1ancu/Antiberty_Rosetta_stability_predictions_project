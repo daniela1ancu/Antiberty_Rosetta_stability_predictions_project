{
 "cells": [
  {
   "cell_type": "code",
   "execution_count": 1,
   "id": "2c5fa817-2526-46d6-a940-ae5738c83f0a",
   "metadata": {},
   "outputs": [],
   "source": [
    "import os\n",
    "import shutil\n",
    "import pandas as pd\n",
    "import pickle as pkl\n",
    "import numpy as np\n",
    "import ast\n",
    "import re"
   ]
  },
  {
   "cell_type": "markdown",
   "id": "928ccbf6-f8e9-40e9-8d6b-21d13e7504cf",
   "metadata": {},
   "source": [
    "## Sort files\n",
    "The original data comes in the folder \"pseudo_log_likelihood\" which contain both the H-chain and the L-chain pseudologs. We first need to sort this into only the H-chain and L-chain folders to make it easier to work with."
   ]
  },
  {
   "cell_type": "code",
   "execution_count": 3,
   "id": "96a3a84b-9ac5-453c-8c5b-8bda91fb3186",
   "metadata": {},
   "outputs": [],
   "source": [
    "input_folder = \"Initial data/pseudo_log_likelihood_csv_melted_scaled\"\n",
    "output_folder_h = \"Antiberty-h\"\n",
    "output_folder_l = \"Antiberty-l\"\n",
    "\n",
    "files = os.listdir(input_folder)  # retrieves the filenames in the folder\n",
    "\n",
    "for file in files:\n",
    "    if \"_h_\" in file:\n",
    "        source_path = os.path.join(input_folder,file)  # crreates the source path\n",
    "        destination_path = os.path.join(output_folder_h,file)  # creates the destination path\n",
    "        shutil.move(source_path, destination_path)  # moves the file from source to destination\n",
    "    else:\n",
    "        source_path = os.path.join(input_folder,file)\n",
    "        destination_path = os.path.join(output_folder_l,file)\n",
    "        shutil.move(source_path, destination_path)"
   ]
  }
 ],
 "metadata": {
  "kernelspec": {
   "display_name": "Python 3 (ipykernel)",
   "language": "python",
   "name": "python3"
  },
  "language_info": {
   "codemirror_mode": {
    "name": "ipython",
    "version": 3
   },
   "file_extension": ".py",
   "mimetype": "text/x-python",
   "name": "python",
   "nbconvert_exporter": "python",
   "pygments_lexer": "ipython3",
   "version": "3.10.13"
  }
 },
 "nbformat": 4,
 "nbformat_minor": 5
}
